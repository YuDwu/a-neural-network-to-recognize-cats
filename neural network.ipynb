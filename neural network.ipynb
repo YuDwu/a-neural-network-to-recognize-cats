{
 "cells": [
  {
   "cell_type": "code",
   "execution_count": 1,
   "metadata": {},
   "outputs": [
    {
     "name": "stderr",
     "output_type": "stream",
     "text": [
      "c:\\users\\ydwu\\appdata\\local\\programs\\python\\python35\\lib\\site-packages\\h5py\\__init__.py:36: FutureWarning: Conversion of the second argument of issubdtype from `float` to `np.floating` is deprecated. In future, it will be treated as `np.float64 == np.dtype(float).type`.\n",
      "  from ._conv import register_converters as _register_converters\n"
     ]
    }
   ],
   "source": [
    "import numpy as np\n",
    "import h5py\n",
    "import matplotlib.pyplot as plt\n",
    "import scipy\n",
    "from scipy import ndimage"
   ]
  },
  {
   "cell_type": "code",
   "execution_count": 2,
   "metadata": {},
   "outputs": [
    {
     "data": {
      "text/plain": [
       "(209,)"
      ]
     },
     "execution_count": 2,
     "metadata": {},
     "output_type": "execute_result"
    }
   ],
   "source": [
    "#导入数据\n",
    "train_data=h5py.File('datasets/train_catvnoncat.h5','r')\n",
    "test_data=h5py.File('datasets/test_catvnoncat.h5','r')\n",
    "X_train=np.array(train_data['train_set_x'][:])\n",
    "Y_train=np.array(train_data['train_set_y'][:])\n",
    "X_test=np.array(test_data['test_set_x'][:])\n",
    "Y_test=np.array(test_data['test_set_y'][:])\n",
    "classes=np.array(test_data['list_classes'][:])\n",
    "Y_train.shape"
   ]
  },
  {
   "cell_type": "code",
   "execution_count": 3,
   "metadata": {},
   "outputs": [
    {
     "data": {
      "text/plain": [
       "(1, 50)"
      ]
     },
     "execution_count": 3,
     "metadata": {},
     "output_type": "execute_result"
    }
   ],
   "source": [
    "#转换标签格式\n",
    "Y_train=Y_train.reshape((1,Y_train.shape[0]))\n",
    "Y_test=Y_test.reshape((1,Y_test.shape[0]))\n",
    "Y_train.shape\n",
    "Y_test.shape"
   ]
  },
  {
   "cell_type": "code",
   "execution_count": 4,
   "metadata": {},
   "outputs": [
    {
     "data": {
      "text/plain": [
       "<matplotlib.image.AxesImage at 0x243097bcf28>"
      ]
     },
     "execution_count": 4,
     "metadata": {},
     "output_type": "execute_result"
    },
    {
     "data": {
      "image/png": "[encoded data removed]",
      "text/plain": [
       "<matplotlib.figure.Figure at 0x24308799438>"
      ]
     },
     "metadata": {},
     "output_type": "display_data"
    }
   ],
   "source": [
    "#查看tux\n",
    "plt.imshow(X_train[50])"
   ]
  },
  {
   "cell_type": "code",
   "execution_count": 5,
   "metadata": {},
   "outputs": [
    {
     "data": {
      "text/plain": [
       "(12288, 209)"
      ]
     },
     "execution_count": 5,
     "metadata": {},
     "output_type": "execute_result"
    }
   ],
   "source": [
    "#将图像格式转化\n",
    "X_train=X_train.reshape(-1,X_train.shape[0])/255\n",
    "X_train.shape"
   ]
  },
  {
   "cell_type": "code",
   "execution_count": 6,
   "metadata": {},
   "outputs": [
    {
     "data": {
      "text/plain": [
       "(12288, 50)"
      ]
     },
     "execution_count": 6,
     "metadata": {},
     "output_type": "execute_result"
    }
   ],
   "source": [
    "X_test=X_test.reshape(-1,X_test.shape[0])/255\n",
    "X_test.shape"
   ]
  },
  {
   "cell_type": "markdown",
   "metadata": {},
   "source": [
    "定义模块"
   ]
  },
  {
   "cell_type": "code",
   "execution_count": 7,
   "metadata": {},
   "outputs": [],
   "source": [
    "def sigmoid(z):\n",
    "    s=1/(1+np.exp(-z))\n",
    "    return s"
   ]
  },
  {
   "cell_type": "code",
   "execution_count": 8,
   "metadata": {},
   "outputs": [],
   "source": [
    "def initialize_with_zeros(dims):\n",
    "    w=np.zeros((dims,1))\n",
    "    b=0\n",
    "    return w,b"
   ]
  },
  {
   "cell_type": "code",
   "execution_count": 9,
   "metadata": {},
   "outputs": [],
   "source": [
    "def propagate(w,b,X,Y):\n",
    "    m=X.shape[1]\n",
    "    A=sigmoid(np.dot(w.T,X)+b)\n",
    "    cost=np.sum(np.dot(np.log(A),Y.T)+np.dot(np.log(1-A),1-Y.T))/-m\n",
    "    dw=np.dot(X,(A-Y).T)/m\n",
    "    db=np.sum(A-Y)/m\n",
    "    grads={'dw':dw,\n",
    "           'db':db}\n",
    "    return grads,cost"
   ]
  },
  {
   "cell_type": "code",
   "execution_count": 10,
   "metadata": {},
   "outputs": [],
   "source": [
    "def optimize(w,b,X,Y,num_iterations,learning_rate,print_cost=False):\n",
    "    costs=[]\n",
    "    for i in range(num_iterations):\n",
    "        grads,cost=propagate(w,b,X,Y)\n",
    "        dw=grads['dw']\n",
    "        db=grads['db']\n",
    "        w=w-learning_rate*dw\n",
    "        b=b-learning_rate*db\n",
    "        if i%100==0:\n",
    "            costs.append(cost)\n",
    "            \n",
    "    params={'w':w,\n",
    "           'b':b}\n",
    "    \n",
    "    grads={'dw':dw,\n",
    "           'db':db}\n",
    "\n",
    "\n",
    "    return grads,params,costs\n",
    "        \n",
    "    "
   ]
  },
  {
   "cell_type": "code",
   "execution_count": 11,
   "metadata": {},
   "outputs": [],
   "source": [
    "def predict(w,b,x):\n",
    "    Y_pre=np.zeros((1,x.shape[1]))\n",
    "    Y_pre=sigmoid(np.dot(w.T,x)+b)\n",
    "    for i in range(x.shape[1]):\n",
    "        if Y_pre[0,1]<=0.5:\n",
    "            Y_pre[0,i]=0\n",
    "        else:\n",
    "            Y_pre[0,i]=1\n",
    "    return Y_pre"
   ]
  },
  {
   "cell_type": "code",
   "execution_count": 12,
   "metadata": {},
   "outputs": [],
   "source": [
    "def model (X_train,Y_train,X_test,Y_test,num_iterations=2000,learning_rate=0.005,print_cost=False):\n",
    "    w,b=initialize_with_zeros(X_train.shape[0])\n",
    "   \n",
    "    grads,params,costs=optimize(w,b,X_train,Y_train,num_iterations,learning_rate,print_cost)\n",
    "    w=params['w']\n",
    "    b=params['b']\n",
    "    Y_train_pre=predict(w,b,X_train)\n",
    "    Y_test_pre=predict(w,b,X_test)\n",
    "    print('accuracy of train : {} %'.format(100-np.mean(np.abs(Y_train_pre-Y_train))*100))\n",
    "    print('accuracy of test : {} %'.format(100-np.mean(np.abs(Y_test_pre-Y_test))*100))\n",
    "    d = {\"costs\": costs,\n",
    "         \"Y_prediction_test\": Y_train_pre, \n",
    "         \"Y_prediction_train\" : Y_test_pre, \n",
    "         \"w\" : w, \n",
    "         \"b\" : b,\n",
    "         \"learning_rate\" : learning_rate,\n",
    "         \"num_iterations\": num_iterations}\n",
    "    return d"
   ]
  },
  {
   "cell_type": "code",
   "execution_count": 13,
   "metadata": {},
   "outputs": [
    {
     "name": "stdout",
     "output_type": "stream",
     "text": [
      "accuracy of train : 65.55023923444976 %\n",
      "accuracy of test : 34.0 %\n"
     ]
    }
   ],
   "source": [
    "d=model(X_train,Y_train,X_test,Y_test,num_iterations=2000,learning_rate=0.005)"
   ]
  },
  {
   "cell_type": "code",
   "execution_count": 14,
   "metadata": {},
   "outputs": [
    {
     "data": {
      "text/plain": [
       "[<matplotlib.lines.Line2D at 0x24309836f28>]"
      ]
     },
     "execution_count": 14,
     "metadata": {},
     "output_type": "execute_result"
    },
    {
     "data": {
      "image/png": "[encoded data removed]",
      "text/plain": [
       "<matplotlib.figure.Figure at 0x2430981aef0>"
      ]
     },
     "metadata": {},
     "output_type": "display_data"
    }
   ],
   "source": [
    "costs=d['costs']\n",
    "plt.plot(costs)"
   ]
  },
  {
   "cell_type": "code",
   "execution_count": null,
   "metadata": {},
   "outputs": [],
   "source": []
  },
  {
   "cell_type": "code",
   "execution_count": null,
   "metadata": {},
   "outputs": [],
   "source": []
  }
 ],
 "metadata": {
  "kernelspec": {
   "display_name": "Python 3",
   "language": "python",
   "name": "python3"
  },
  "language_info": {
   "codemirror_mode": {
    "name": "ipython",
    "version": 3
   },
   "file_extension": ".py",
   "mimetype": "text/x-python",
   "name": "python",
   "nbconvert_exporter": "python",
   "pygments_lexer": "ipython3",
   "version": "3.5.4"
  }
 },
 "nbformat": 4,
 "nbformat_minor": 2
}
